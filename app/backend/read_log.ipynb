{
 "cells": [
  {
   "cell_type": "code",
   "execution_count": 1,
   "metadata": {},
   "outputs": [],
   "source": [
    "import pandas as pd\n",
    "import json"
   ]
  },
  {
   "cell_type": "code",
   "execution_count": 2,
   "metadata": {},
   "outputs": [],
   "source": [
    "df = pd.read_csv(\"chat_log.csv\", encoding=\"utf-8\")\n",
    "df[\"request\"] = df[\"request\"].apply(json.loads)\n",
    "df[\"response\"] = df[\"response\"].apply(json.loads)\n",
    "df['questtion'] = df['request'].apply(lambda x: x['history'][0]['user'])\n",
    "df['answer'] = df['response'].apply(lambda x: x['answer'])"
   ]
  },
  {
   "cell_type": "code",
   "execution_count": 3,
   "metadata": {},
   "outputs": [
    {
     "data": {
      "text/html": [
       "<div>\n",
       "<style scoped>\n",
       "    .dataframe tbody tr th:only-of-type {\n",
       "        vertical-align: middle;\n",
       "    }\n",
       "\n",
       "    .dataframe tbody tr th {\n",
       "        vertical-align: top;\n",
       "    }\n",
       "\n",
       "    .dataframe thead th {\n",
       "        text-align: right;\n",
       "    }\n",
       "</style>\n",
       "<table border=\"1\" class=\"dataframe\">\n",
       "  <thead>\n",
       "    <tr style=\"text-align: right;\">\n",
       "      <th></th>\n",
       "      <th>request</th>\n",
       "      <th>response</th>\n",
       "      <th>questtion</th>\n",
       "      <th>answer</th>\n",
       "    </tr>\n",
       "  </thead>\n",
       "  <tbody>\n",
       "    <tr>\n",
       "      <th>0</th>\n",
       "      <td>{'history': [{'user': 'ttb all free คืออะไร'}]...</td>\n",
       "      <td>{'data_points': ['annual_report-0.pdf: 4. การว...</td>\n",
       "      <td>ttb all free คืออะไร</td>\n",
       "      <td>TTB All Free เป็นผลิตภัณฑ์เงินฝากที่เสนอให้ลูก...</td>\n",
       "    </tr>\n",
       "    <tr>\n",
       "      <th>1</th>\n",
       "      <td>{'history': [{'user': 'ttb all free คืออะไร', ...</td>\n",
       "      <td>{'data_points': ['annual_report-15.pdf: พร้อมท...</td>\n",
       "      <td>ttb all free คืออะไร</td>\n",
       "      <td>ตามข้อมูลจาก annual_report-15.pdf ซึ่งแสดงโครง...</td>\n",
       "    </tr>\n",
       "  </tbody>\n",
       "</table>\n",
       "</div>"
      ],
      "text/plain": [
       "                                             request  \\\n",
       "0  {'history': [{'user': 'ttb all free คืออะไร'}]...   \n",
       "1  {'history': [{'user': 'ttb all free คืออะไร', ...   \n",
       "\n",
       "                                            response             questtion  \\\n",
       "0  {'data_points': ['annual_report-0.pdf: 4. การว...  ttb all free คืออะไร   \n",
       "1  {'data_points': ['annual_report-15.pdf: พร้อมท...  ttb all free คืออะไร   \n",
       "\n",
       "                                              answer  \n",
       "0  TTB All Free เป็นผลิตภัณฑ์เงินฝากที่เสนอให้ลูก...  \n",
       "1  ตามข้อมูลจาก annual_report-15.pdf ซึ่งแสดงโครง...  "
      ]
     },
     "execution_count": 3,
     "metadata": {},
     "output_type": "execute_result"
    }
   ],
   "source": [
    "df.head()"
   ]
  }
 ],
 "metadata": {
  "kernelspec": {
   "display_name": "Python 3",
   "language": "python",
   "name": "python3"
  },
  "language_info": {
   "codemirror_mode": {
    "name": "ipython",
    "version": 3
   },
   "file_extension": ".py",
   "mimetype": "text/x-python",
   "name": "python",
   "nbconvert_exporter": "python",
   "pygments_lexer": "ipython3",
   "version": "3.11.0"
  },
  "orig_nbformat": 4
 },
 "nbformat": 4,
 "nbformat_minor": 2
}
